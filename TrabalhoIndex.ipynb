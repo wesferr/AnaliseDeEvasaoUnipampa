{
 "cells": [
  {
   "cell_type": "markdown",
   "metadata": {},
   "source": [
    "## imports e declarações"
   ]
  },
  {
   "cell_type": "code",
   "execution_count": 1,
   "metadata": {},
   "outputs": [],
   "source": [
    "#-*- coding: utf-8 -*-\n",
    "import pandas as pd\n",
    "import numpy as np\n",
    "from matplotlib.pyplot import *"
   ]
  },
  {
   "cell_type": "markdown",
   "metadata": {},
   "source": [
    "# Preparação, limpeza e agregação"
   ]
  },
  {
   "cell_type": "markdown",
   "metadata": {},
   "source": [
    "## preparação e limpeza do dataset 1"
   ]
  },
  {
   "cell_type": "code",
   "execution_count": 2,
   "metadata": {},
   "outputs": [
    {
     "name": "stderr",
     "output_type": "stream",
     "text": [
      "/usr/local/lib/python3.5/dist-packages/ipykernel_launcher.py:37: SettingWithCopyWarning: \n",
      "A value is trying to be set on a copy of a slice from a DataFrame\n",
      "\n",
      "See the caveats in the documentation: http://pandas.pydata.org/pandas-docs/stable/indexing.html#indexing-view-versus-copy\n"
     ]
    }
   ],
   "source": [
    "def repModalidade(data):\n",
    "    data.reset_index(drop=True, inplace=True)\n",
    "    if('modalidade' not in data.columns):\n",
    "            data[\"modalidade\"]='Não especificado'\n",
    "    for i in range(len(data)):\n",
    "        if(data.loc[i,('curso')].startswith('Licenciatura Em ')):\n",
    "            data.loc[i,('modalidade')]='Licenciatura Plena'\n",
    "            data.loc[i,('curso')]=data['curso'][i][16:]\n",
    "        elif(data.loc[i,('curso')].endswith(' - Noturno')):\n",
    "            data.loc[i,('curso')]=data['curso'][i][:-10]\n",
    "        elif(data.loc[i,('curso')].endswith(' - Bacharelado')):\n",
    "            data.loc[i,('modalidade')]='Bacharelado'\n",
    "            data.loc[i,('curso')]=data['curso'][i][:-14]\n",
    "        elif(data.loc[i,('curso')].endswith(' - Licenciatura Plena (Cod.111.Uni)')):\n",
    "            data.loc[i,('modalidade')]='Licenciatura Plena'\n",
    "            data.loc[i,('curso')]=data['curso'][i][:-14]\n",
    "        else:\n",
    "            data.loc[i,('modalidade')]='Bacharelado'\n",
    "            \n",
    "def cleardb1(data):\n",
    "    data.columns = data.loc[0]\n",
    "    data.drop(data.index[:1], inplace=True)\n",
    "    data.drop(data.index[-1], inplace=True)\n",
    "    data[\"Campus\"].fillna(method='ffill', inplace=True)\n",
    "    data.rename({\"NOME_CURSO\": \"curso\", \"Campus\": \"campus\"}, axis=1, inplace=True)\n",
    "    data.curso = data.curso.str.title()\n",
    "    data[\"turno\"]='Não especificado'\n",
    "    col = [\"Abandono\",\"Cancelamento\",\"Classificado e Não Matriculado\",\"Desligamento\",\"Transferido\"]\n",
    "    for i in col:\n",
    "        if i not in data.columns:\n",
    "            data[i] = np.nan\n",
    "        data[i].fillna(0, inplace=True)\n",
    "\n",
    "    data.dropna(axis=1, inplace=True)\n",
    "    \n",
    "    s=data['curso']\n",
    "    s[s.str.startswith('Curso De ')]=s[s.str.startswith('Curso De ')].str[9:]\n",
    "    data['curso']=s\n",
    "    data['curso']=data['curso'].str.normalize('NFKD').str.encode('ascii', errors='ignore').str.decode('utf-8')\n",
    "    repModalidade(data)\n",
    "    data.reset_index(drop=True, inplace=True)\n",
    "\n",
    "    \n",
    "#carregando as databases e limpando com os metodos definidos anteriormente\n",
    "d061 = pd.read_csv(\"./data/evasao - 061.csv\", encoding = \"utf-8\")\n",
    "cleardb1(d061)\n",
    "d061.drop(columns=[\"Nº de alunos\"], inplace=True)\n",
    "\n",
    "d062 = pd.read_csv(\"./data/evasao - 062.csv\", encoding = \"utf-8\")\n",
    "cleardb1(d062)\n",
    "d062.drop(columns=[\"Nº de alunos\"], inplace=True)\n",
    "\n",
    "d071 = pd.read_csv(\"./data/evasao - 071.csv\", encoding = \"utf-8\")\n",
    "cleardb1(d071)\n",
    "d071.drop(columns=[\"Nº alunos\"], inplace=True)\n",
    "\n",
    "d072 = pd.read_csv(\"./data/evasao - 072.csv\", encoding = \"utf-8\")\n",
    "cleardb1(d072)\n",
    "d072.drop(columns=[\"Nº de alunos\"], inplace=True)"
   ]
  },
  {
   "cell_type": "markdown",
   "metadata": {},
   "source": [
    "## preparação e limpeza do dataset 2"
   ]
  },
  {
   "cell_type": "code",
   "execution_count": 3,
   "metadata": {},
   "outputs": [],
   "source": [
    "def cleardb2(data, lastline):\n",
    "    data.columns = data.loc[1]\n",
    "    data.drop(data.index[:2], inplace=True)\n",
    "    data.drop(data.index[lastline], inplace=True)\n",
    "    data.drop(data.loc[data.NOME_CURSO=='Regime Especial De Graduacao'].index, inplace=True)\n",
    "    \n",
    "    data[\"NOME_CURSO\"].fillna(method='ffill', inplace=True)\n",
    "    \n",
    "    if ('Campus' in data.columns):\n",
    "        data[\"Campus\"].fillna(method='ffill', inplace=True)\n",
    "\n",
    "    data.dropna(1, inplace=True)\n",
    "    data.reset_index(drop=True, inplace=True)\n",
    "    data = split(data)\n",
    "    data = pivoting(data)\n",
    "    data.curso = data.curso.str.title()\n",
    "    s=data['curso']\n",
    "    s[s.str.startswith('Curso De ')]=s[s.str.startswith('Curso De ')].str[9:]\n",
    "    data['curso']=s\n",
    "    data['curso']=data['curso'].str.normalize('NFKD').str.encode('ascii', errors='ignore').str.decode('utf-8')\n",
    "    repModalidade(data)\n",
    "    return data\n",
    "    \n",
    "def split(data):\n",
    "    ocorrencia = data[[\"Ocorrência/forma de evasão\"]]\n",
    "    ocorrencia = pd.DataFrame(ocorrencia[\"Ocorrência/forma de evasão\"].str.split(\"=\").tolist())\n",
    "    data = pd.concat([data, ocorrencia], axis=1, join_axes=[data.index])\n",
    "    \n",
    "    data.drop(columns=[\"Ocorrência/forma de evasão\"], inplace=True)\n",
    "    data.rename({\"NOME_CURSO\": \"curso\", 0:\"tipo\", 1:\"quantidade\"}, axis=1, inplace=True)\n",
    "    data.quantidade = data.quantidade.apply(pd.to_numeric)\n",
    "    return data\n",
    "\n",
    "def pivoting(data):\n",
    "    data.dropna(inplace=True)\n",
    "    data1 = data.pivot(index=\"curso\", columns='tipo', values=\"quantidade\")\n",
    "    data1.fillna(0, inplace=True)\n",
    "    data1.reset_index(inplace=True)\n",
    "    data1.dropna(axis=0, inplace=True)\n",
    "    return data1"
   ]
  },
  {
   "cell_type": "code",
   "execution_count": 4,
   "metadata": {},
   "outputs": [
    {
     "name": "stderr",
     "output_type": "stream",
     "text": [
      "/usr/local/lib/python3.5/dist-packages/ipykernel_launcher.py:18: SettingWithCopyWarning: \n",
      "A value is trying to be set on a copy of a slice from a DataFrame\n",
      "\n",
      "See the caveats in the documentation: http://pandas.pydata.org/pandas-docs/stable/indexing.html#indexing-view-versus-copy\n"
     ]
    }
   ],
   "source": [
    "#carregando as databases e limpando com os metodos definidos anteriormente\n",
    "d081 = pd.read_csv(\"./data/evasao - 081.csv\", encoding = \"utf-8\")\n",
    "d081 = cleardb2(d081,-4)\n",
    "\n",
    "d082 = pd.read_csv(\"./data/evasao - 082.csv\", encoding = \"utf-8\")\n",
    "d082 = cleardb2(d082, -5)\n",
    "\n",
    "d091 = pd.read_csv(\"./data/evasao - 091.csv\", encoding = \"utf-8\")\n",
    "d091 = cleardb2(d091, -8)\n",
    "\n",
    "d092 = pd.read_csv(\"./data/evasao - 092.csv\", encoding = \"utf-8\")\n",
    "d092 = cleardb2(d092, -6)\n",
    "\n",
    "d101 = pd.read_csv(\"./data/evasao - 101.csv\", encoding = \"utf-8\")\n",
    "d101 = cleardb2(d101, -8)\n",
    "\n",
    "d102 = pd.read_csv(\"./data/evasao - 102.csv\", encoding = \"utf-8\")\n",
    "d102 = cleardb2(d102,-7)\n",
    "\n",
    "d111 = pd.read_csv(\"./data/evasao - 111.csv\", encoding = \"utf-8\")\n",
    "d111 = cleardb2(d111,-5)\n",
    "\n",
    "    "
   ]
  },
  {
   "cell_type": "markdown",
   "metadata": {},
   "source": [
    "## limpeza e preparação do dataset 3"
   ]
  },
  {
   "cell_type": "code",
   "execution_count": 5,
   "metadata": {},
   "outputs": [],
   "source": [
    "a2016m01 = pd.read_csv(\"data/nAlunosPorMes/a2016m01.csv\", encoding = \"ISO-8859-1\")\n",
    "a2016m02 = pd.read_csv(\"data/nAlunosPorMes/a2016m02.csv\", encoding = \"ISO-8859-1\")\n",
    "a2016m03 = pd.read_csv(\"data/nAlunosPorMes/a2016m03.csv\", encoding = \"ISO-8859-1\")\n",
    "a2016m04 = pd.read_csv(\"data/nAlunosPorMes/a2016m04.csv\", encoding = \"ISO-8859-1\")\n",
    "a2016m05 = pd.read_csv(\"data/nAlunosPorMes/a2016m05.csv\", encoding = \"ISO-8859-1\")\n",
    "a2016m06 = pd.read_csv(\"data/nAlunosPorMes/a2016m06.csv\", encoding = \"ISO-8859-1\")\n",
    "a2016m07 = pd.read_csv(\"data/nAlunosPorMes/a2016m07.csv\", encoding = \"ISO-8859-1\")\n",
    "a2016m08 = pd.read_csv(\"data/nAlunosPorMes/a2016m08.csv\", encoding = \"ISO-8859-1\")\n",
    "a2016m10 = pd.read_csv(\"data/nAlunosPorMes/a2016m10.csv\", encoding = \"ISO-8859-1\")\n",
    "a2016m11 = pd.read_csv(\"data/nAlunosPorMes/a2016m11.csv\", delimiter=';', encoding = \"ISO-8859-1\")\n",
    "a2016m12 = pd.read_csv(\"data/nAlunosPorMes/a2016m12.csv\", delimiter=';', encoding = \"ISO-8859-1\")\n",
    "\n",
    "a2017m01 = pd.read_csv(\"data/nAlunosPorMes/a2017m01.csv\", delimiter=';', encoding = \"ISO-8859-1\")\n",
    "a2017m02 = pd.read_csv(\"data/nAlunosPorMes/a2017m02.csv\", delimiter=';', encoding = \"ISO-8859-1\")\n",
    "a2017m03 = pd.read_csv(\"data/nAlunosPorMes/a2017m03.csv\", delimiter=';', encoding = \"ISO-8859-1\")\n",
    "a2017m04 = pd.read_csv(\"data/nAlunosPorMes/a2017m04.csv\", delimiter=',', encoding = \"ISO-8859-1\")\n",
    "a2017m05 = pd.read_csv(\"data/nAlunosPorMes/a2017m05.csv\", delimiter=',', encoding = \"ISO-8859-1\")\n",
    "a2017m07 = pd.read_csv(\"data/nAlunosPorMes/a2017m07.csv\", delimiter=',', encoding = \"ISO-8859-1\")\n",
    "a2017m08 = pd.read_csv(\"data/nAlunosPorMes/a2017m08.csv\", delimiter=',', encoding = \"ISO-8859-1\")\n",
    "a2017m09 = pd.read_csv(\"data/nAlunosPorMes/a2017m09.csv\", delimiter=',', encoding = \"ISO-8859-1\")\n",
    "a2017m11 = pd.read_csv(\"data/nAlunosPorMes/a2017m11.csv\", delimiter=',', encoding = \"ISO-8859-1\")\n",
    "a2017m12 = pd.read_csv(\"data/nAlunosPorMes/a2017m12.csv\", delimiter=',', encoding = \"ISO-8859-1\")\n",
    "\n",
    "a2018m01 = pd.read_csv(\"data/nAlunosPorMes/a2018m01.csv\", delimiter=',', encoding = \"ISO-8859-1\")\n",
    "a2018m02 = pd.read_csv(\"data/nAlunosPorMes/a2018m02.csv\", delimiter=',', encoding = \"ISO-8859-1\")\n",
    "a2018m03 = pd.read_csv(\"data/nAlunosPorMes/a2018m03.csv\", delimiter=',', encoding = \"ISO-8859-1\")\n",
    "a2018m04 = pd.read_csv(\"data/nAlunosPorMes/a2018m04.csv\", delimiter=',', encoding = \"ISO-8859-1\")\n",
    "\n",
    "#colocando as referencias da lista para fazer uma primeira limpeza\n",
    "datasets3=[a2016m01,a2016m02, a2016m03, a2016m04, a2016m05, a2016m06, a2016m07, a2016m08, a2016m10, a2016m11, a2016m12,\n",
    "          a2017m01, a2017m02, a2017m03,a2017m04, a2017m05, a2017m07, a2017m08, a2017m09, a2017m11, a2017m12,\n",
    "          a2018m01,a2018m02,a2018m03,a2018m04]\n",
    "\n",
    "#constantes para jogar as tabelas em dataframes\n",
    "a=['nome do curso','campus', 'nível', 'turno', 'modalidade',  'alunos matriculados']\n",
    "b=['nome do curso', 'campus', 'nível', 'turno', 'modalidade']"
   ]
  },
  {
   "cell_type": "code",
   "execution_count": 6,
   "metadata": {},
   "outputs": [],
   "source": [
    "find=['Letras -  Com Habilitação Em Lingua Portuguesa E Respectivas Literaturas', \n",
    "      'Letras -  Com Habilitação Em Língua Portuguesa E Respectivas Literaturas',\n",
    "     'Geografia Licenciatura', 'Licenciatura Em Educação Física', 'Licenciatura Em Pedagogia', \n",
    "     'Engenharia Em Agrimensura']\n",
    "repl=['Letras Português']*2+['Licenciatura Em Geografia','Educação Física', 'Pedagogia', 'Engenharia De Agrimensura']\n",
    "\n",
    "for i in range (len(datasets3)):\n",
    "    datasets3[i]['nome do curso']=datasets3[i]['nome do curso'].str.title()\n",
    "    datasets3[i]['nome do curso']=datasets3[i]['nome do curso'].str.strip()\n",
    "    for j in range (len(find)):\n",
    "        datasets3[i]['nome do curso']=datasets3[i]['nome do curso'].str.replace(find[j],repl[j])\n",
    "        \n",
    "datasets3=None"
   ]
  },
  {
   "cell_type": "code",
   "execution_count": 7,
   "metadata": {},
   "outputs": [],
   "source": [
    "#Datasets 2016-01 a 2016-12\n",
    "df1602=pd.merge(a2016m01[a],a2016m02[a], how='outer', on=b, suffixes=(' em 16-01',' em 16-02'))\n",
    "df1603=pd.merge(df1602,a2016m03[a], how='outer', on=b)\n",
    "df1604=pd.merge(df1603,a2016m04[a], how='outer', on=b, suffixes=(' em 16-03',' em 16-04'))\n",
    "df1605=pd.merge(df1604,a2016m05[a], how='outer', on=b)\n",
    "df1606=pd.merge(df1605,a2016m06[a], how='outer', on=b, suffixes=(' em 16-05',' em 16-06'))\n",
    "df1607=pd.merge(df1606,a2016m07[a], how='outer', on=b)\n",
    "df1608=pd.merge(df1607,a2016m08[a], how='outer', on=b, suffixes=(' em 16-07',' em 16-08'))\n",
    "df1610=pd.merge(df1608,a2016m10[a], how='outer', on=b)\n",
    "df1611=pd.merge(df1610,a2016m11[a], how='outer', on=b, suffixes=(' em 16-10',' em 16-11'))\n",
    "df16final=pd.merge(df1611,a2016m11[a], how='outer', on=b)\n",
    "\n",
    "df16final.drop(df16final.loc[df16final.nível!='Graduação'].index, inplace=True)\n",
    "df16final.rename({'alunos matriculados': 'alunos matriculados em 16-12'}, axis=1, inplace=True)\n",
    "df16final.sort_values(by=['campus', 'nome do curso'], inplace=True, ascending=True)\n",
    "df16final.reset_index(drop=True, inplace=True)"
   ]
  },
  {
   "cell_type": "code",
   "execution_count": 8,
   "metadata": {},
   "outputs": [],
   "source": [
    "#Datasets 2017-01 a 2017-12\n",
    "df1702=pd.merge(a2017m01[a],a2017m02[a], how='outer', on=b, suffixes=(' em 17-01',' em 17-02'))\n",
    "df1703=pd.merge(df1702,a2017m03[a], how='outer', on=b)\n",
    "df1704=pd.merge(df1703,a2017m04[a], how='outer', on=b, suffixes=(' em 17-03',' em 17-04'))\n",
    "df1705=pd.merge(df1704,a2017m05[a], how='outer', on=b)\n",
    "df1707=pd.merge(df1705,a2017m07[a], how='outer', on=b, suffixes=(' em 17-05',' em 17-07'))\n",
    "df1708=pd.merge(df1707,a2017m08[a], how='outer', on=b)\n",
    "df1709=pd.merge(df1708,a2017m09[a], how='outer', on=b, suffixes=(' em 17-08',' em 17-09'))\n",
    "df1711=pd.merge(df1709,a2017m11[a], how='outer', on=b)\n",
    "df17final=pd.merge(df1711,a2017m12[a], how='outer', on=b, suffixes=(' em 17-11',' em 17-12'))\n",
    "\n",
    "df17final.drop(df17final.loc[df17final.nível!='Graduação'].index, inplace=True)\n",
    "df17final.reset_index(drop=True, inplace=True)\n",
    "df17final.sort_values(by=['campus', 'nome do curso'], inplace=True)"
   ]
  },
  {
   "cell_type": "code",
   "execution_count": 9,
   "metadata": {},
   "outputs": [],
   "source": [
    "#Datasets 2018-01 a 2018-04\n",
    "df1802=pd.merge(a2018m01[a],a2018m02[a], how='outer', on=b, suffixes=(' em 18-01',' em 18-02'))\n",
    "df1803=pd.merge(df1802,a2018m03[a], how='outer', on=b)\n",
    "df18final=pd.merge(df1803,a2018m04[a], how='outer', on=b, suffixes=(' em 18-03',' em 18-04'))\n",
    "\n",
    "df18final.drop(df18final.loc[df18final.nível!='Graduação'].index, inplace=True)\n",
    "df18final.reset_index(drop=True, inplace=True)"
   ]
  },
  {
   "cell_type": "code",
   "execution_count": 10,
   "metadata": {},
   "outputs": [],
   "source": [
    "df1617=pd.merge(df16final,df17final, how='outer', on=b)\n",
    "df1618=pd.merge(df1617,df18final, how='outer', on=b)"
   ]
  },
  {
   "cell_type": "code",
   "execution_count": 11,
   "metadata": {},
   "outputs": [
    {
     "name": "stderr",
     "output_type": "stream",
     "text": [
      "/usr/local/lib/python3.5/dist-packages/ipykernel_launcher.py:38: SettingWithCopyWarning: \n",
      "A value is trying to be set on a copy of a slice from a DataFrame\n",
      "\n",
      "See the caveats in the documentation: http://pandas.pydata.org/pandas-docs/stable/indexing.html#indexing-view-versus-copy\n"
     ]
    }
   ],
   "source": [
    "#será considero que o primeiro semestre do ano comece em Abril (pois é quando são contabilizados os alunos matriculados \n",
    "#no mes de fevereiro e Março) e termine em Julho (mes onde são contabilidados os alunos matriculados no final do periodo letivo) e que o segundo semestre comece em Agosto(mês em que\n",
    "# as ferias terminam e ocorrem as transferencias) e termine em Fevereiro (utlimo mes antes da contabilização das inscrições\n",
    "#através do enem)\n",
    "#O nível de precisão será menor do que das tabelas de antes de 2012, já que podem ter saído alunos nos meses em que novos \n",
    "# entram, assim, mascarando a quantidade de abandonos e de inscrições\n",
    "#o calculo para ver a quantidade de desistencia de cada semestre será: \n",
    "#    quantidade de alunos no mês de inicio do semestre - quantidade de alunos no mês de termino do semestre.\n",
    "# Então, para o primeiro semestre sera: Qntdd em Março - Qntdd em Julho\n",
    "# E para o segundo semestre será: Qntdd em Agosto - Qntdd em Fevereiro\n",
    "# Como os dados começam em Novembro de 2015 e terminam em Abril de 2018, o calculo do segundo semestre de 2015 será começado\n",
    "# a partir de Novembro, e o fim do primeiro semestre de 2018 será em Abril, pois é até onde temos os dados\n",
    "\n",
    "def dif(df1, mes1, mes2):\n",
    "    retorno=df1.copy()\n",
    "    pattern='alunos matriculados em '\n",
    "    col1=pattern+mes1\n",
    "    col2=pattern+mes2\n",
    "    retorno['diff']=retorno[col1]-retorno[col2]\n",
    "    return retorno[['nome do curso', 'campus','turno','modalidade', col1, col2, 'diff']]\n",
    "\n",
    "def addcols(df):\n",
    "    df['classificado e não matriculado']=0\n",
    "    df['cancelamento']=0\n",
    "    df['desligamento']=0\n",
    "    df['falecimento']=0\n",
    "    df['transferência']=0\n",
    "    return df\n",
    "    \n",
    "def cleardb3(df, mes1, mes2):\n",
    "    ab=dif(df, mes1, mes2)\n",
    "    ab=ab[[c for c in ab.columns if 'alunos' not in c]]\n",
    "    ab.rename({'diff': 'abandono'}, axis=1, inplace=True)\n",
    "    ab.rename({'nome do curso': 'curso'}, axis=1, inplace=True)\n",
    "    ab['abandono'].fillna(0, inplace=True)\n",
    "    \n",
    "    s=ab['abandono']\n",
    "    s[s<0]=0\n",
    "    ab['abandono']=s\n",
    "    \n",
    "    ab['campus'] = ab['campus'].str[7:]\n",
    "    addcols(ab)\n",
    "    ab.drop(ab.loc[ab.curso=='Aluno Em Regime Especial De Graduacao'].index, inplace=True)\n",
    "    ab.reset_index(drop=True, inplace=True)\n",
    "    ab['curso']=ab['curso'].str.normalize('NFKD').str.encode('ascii', errors='ignore').str.decode('utf-8')\n",
    "    return ab\n",
    "\n",
    "df1=cleardb3(df1618,'16-04','16-07')\n",
    "df2=cleardb3(df1618,'16-08','17-02')\n",
    "df3=cleardb3(df1618,'17-04','17-07')\n",
    "df4=cleardb3(df1618,'17-08','18-02')\n",
    "df5=cleardb3(df1618,'18-03','18-04')"
   ]
  },
  {
   "cell_type": "markdown",
   "metadata": {},
   "source": [
    "## finalizando a limpesa dos datasets agregando o campus na tabela dos cursos"
   ]
  },
  {
   "cell_type": "code",
   "execution_count": 12,
   "metadata": {},
   "outputs": [
    {
     "name": "stderr",
     "output_type": "stream",
     "text": [
      "/usr/local/lib/python3.5/dist-packages/ipykernel_launcher.py:15: SettingWithCopyWarning: \n",
      "A value is trying to be set on a copy of a slice from a DataFrame\n",
      "\n",
      "See the caveats in the documentation: http://pandas.pydata.org/pandas-docs/stable/indexing.html#indexing-view-versus-copy\n",
      "  from ipykernel import kernelapp as app\n"
     ]
    }
   ],
   "source": [
    "datasetsSeparated = [d061,d062,d071,d072,d081,d082,d091,d092,d101,d102,d111] \n",
    "aa={}\n",
    "\n",
    "def takecampus(df, referencia1=df5, referencia2=d072):\n",
    "    def makedict(df):\n",
    "        return dict(zip(df['curso'],df['campus']))\n",
    "    if(aa=={}):\n",
    "        aa.update(makedict(referencia1))\n",
    "        aa.update(makedict(referencia2))\n",
    "    if('campus' not in df.columns):\n",
    "        df['campus']=df['curso'].map(aa)\n",
    "    else:\n",
    "        aa.update(makedict(df))\n",
    "    s=df['campus']\n",
    "    s[s.isnull()]='Não Especificado'\n",
    "    #print(s[s.isnull()])\n",
    "    df['campus']=s\n",
    "\n",
    "for i in range(len(datasetsSeparated)):\n",
    "    datasetsSeparated[i].columns = datasetsSeparated[i].columns.str.lower()\n",
    "    takecampus(datasetsSeparated[i], df5)\n",
    "    datasetsSeparated[i].sort_values(by=\"campus\", inplace=True)\n",
    "\n",
    "datasetsSeparated += [df1,df2,df3,df4,df5]\n",
    "for i in range(len(datasetsSeparated)):\n",
    "    if(\"transferência\" in datasetsSeparated[i]):\n",
    "        if(\"transferência interna\" in datasetsSeparated[i]):\n",
    "            datasetsSeparated[i][\"transferência\"] += datasetsSeparated[i][\"transferência interna\"]\n",
    "            datasetsSeparated[i].drop(\"transferência interna\", axis=1, inplace=True)\n",
    "        if(\"transferido\" in datasetsSeparated[i]):\n",
    "            datasetsSeparated[i][\"transferência\"] += datasetsSeparated[i][\"transferido\"]\n",
    "            datasetsSeparated[i].drop(\"transferido\", axis=1, inplace=True)\n",
    "    else:\n",
    "        datasetsSeparated[i].rename(columns={\"transferido\": \"transferência\"},inplace=True)\n",
    "    if(\"classificado e não matriculado\" in datasetsSeparated[i]):\n",
    "        if(\"sem matrícula\" in datasetsSeparated[i]):\n",
    "            datasetsSeparated[i][\"classificado e não matriculado\"] += datasetsSeparated[i][\"sem matrícula\"]\n",
    "            datasetsSeparated[i].drop(\"sem matrícula\", axis=1, inplace=True)\n"
   ]
  },
  {
   "cell_type": "markdown",
   "metadata": {},
   "source": [
    "## agregando todas as tabelas por semestre"
   ]
  },
  {
   "cell_type": "code",
   "execution_count": 13,
   "metadata": {},
   "outputs": [],
   "source": [
    "keys = [\"06.1\", \"06.2\", \"07.1\", \"07.2\", \"08.1\", \"08.2\", \"09.1\", \"09.2\", \"10.1\", \"10.2\", \"11.1\", \"16.1\", \"16.2\", \"17.1\", \"17.2\", \"18.1\"]\n",
    "datasets = pd.concat(datasetsSeparated, keys=keys)\n",
    "datasets = datasets.fillna(0)\n",
    "datasets = datasets.apply(pd.to_numeric, errors='ignore')\n",
    "datasets.index.name = \"semestre\"\n",
    "datasets.index.names=['semestres','']"
   ]
  },
  {
   "cell_type": "markdown",
   "metadata": {},
   "source": [
    "# Respostas para as perguntas:"
   ]
  },
  {
   "cell_type": "markdown",
   "metadata": {},
   "source": [
    "## Qual as cidades com o maior indice de evasões?"
   ]
  },
  {
   "cell_type": "code",
   "execution_count": 14,
   "metadata": {},
   "outputs": [
    {
     "data": {
      "text/plain": [
       "campus\n",
       "Bagé                     1780.0\n",
       "Alegrete                  960.0\n",
       "Uruguaiana                877.0\n",
       "São Borja                 731.0\n",
       "Santana do Livramento     652.0\n",
       "dtype: float64"
      ]
     },
     "execution_count": 14,
     "metadata": {},
     "output_type": "execute_result"
    }
   ],
   "source": [
    "cidades = datasets.groupby(\"campus\").sum().sum(axis=1).sort_values(ascending=False)\n",
    "cidades.head()"
   ]
  },
  {
   "cell_type": "code",
   "execution_count": 15,
   "metadata": {},
   "outputs": [
    {
     "data": {
      "text/plain": [
       "7956.0"
      ]
     },
     "execution_count": 15,
     "metadata": {},
     "output_type": "execute_result"
    }
   ],
   "source": [
    "cidades.sum()"
   ]
  },
  {
   "cell_type": "code",
   "execution_count": 16,
   "metadata": {},
   "outputs": [
    {
     "data": {
      "text/plain": [
       "<BarContainer object of 11 artists>"
      ]
     },
     "execution_count": 16,
     "metadata": {},
     "output_type": "execute_result"
    },
    {
     "data": {
      "image/png": "[encoded data removed]",
      "text/plain": [
       "<Figure size 432x288 with 1 Axes>"
      ]
     },
     "metadata": {},
     "output_type": "display_data"
    }
   ],
   "source": [
    "barh(cidades.index, cidades.values)"
   ]
  },
  {
   "cell_type": "code",
   "execution_count": 17,
   "metadata": {},
   "outputs": [
    {
     "data": {
      "text/plain": [
       "22.373051784816493"
      ]
     },
     "execution_count": 17,
     "metadata": {},
     "output_type": "execute_result"
    }
   ],
   "source": [
    "cidades.Bagé/cidades.sum()*100"
   ]
  },
  {
   "cell_type": "code",
   "execution_count": 18,
   "metadata": {},
   "outputs": [
    {
     "data": {
      "text/plain": [
       "12.066365007541478"
      ]
     },
     "execution_count": 18,
     "metadata": {},
     "output_type": "execute_result"
    }
   ],
   "source": [
    "cidades.Alegrete/cidades.sum()*100"
   ]
  },
  {
   "cell_type": "markdown",
   "metadata": {},
   "source": [
    "## Comparação entre as categorias de evasão"
   ]
  },
  {
   "cell_type": "code",
   "execution_count": 19,
   "metadata": {},
   "outputs": [],
   "source": [
    "categorias = [\"abandono\", \"cancelamento\", \"classificado e não matriculado\", \"desligamento\",\"falecimento\"]\n",
    "cat = datasets[categorias]\n",
    "cat = cat.loc[[\"06.1\", \"06.2\", \"07.1\", \"07.2\", \"08.1\", \"08.2\", \"09.1\", \"09.2\", \"10.1\", \"10.2\", \"11.1\"]].sum()"
   ]
  },
  {
   "cell_type": "code",
   "execution_count": 20,
   "metadata": {},
   "outputs": [
    {
     "data": {
      "text/plain": [
       "abandono                          2178.0\n",
       "cancelamento                       348.0\n",
       "classificado e não matriculado      85.0\n",
       "desligamento                        59.0\n",
       "falecimento                          6.0\n",
       "dtype: float64"
      ]
     },
     "execution_count": 20,
     "metadata": {},
     "output_type": "execute_result"
    }
   ],
   "source": [
    "cat"
   ]
  },
  {
   "cell_type": "code",
   "execution_count": 21,
   "metadata": {},
   "outputs": [
    {
     "data": {
      "text/plain": [
       "<BarContainer object of 5 artists>"
      ]
     },
     "execution_count": 21,
     "metadata": {},
     "output_type": "execute_result"
    },
    {
     "data": {
      "image/png": "[encoded data removed]",
      "text/plain": [
       "<Figure size 432x288 with 1 Axes>"
      ]
     },
     "metadata": {},
     "output_type": "display_data"
    }
   ],
   "source": [
    "barh(cat.index, cat.values)"
   ]
  },
  {
   "cell_type": "code",
   "execution_count": 22,
   "metadata": {},
   "outputs": [
    {
     "data": {
      "text/plain": [
       "81.39013452914799"
      ]
     },
     "execution_count": 22,
     "metadata": {},
     "output_type": "execute_result"
    }
   ],
   "source": [
    "cat.loc[\"abandono\"]/cat.sum()*100"
   ]
  },
  {
   "cell_type": "markdown",
   "metadata": {},
   "source": [
    "## Semestre com maior numero de evasões"
   ]
  },
  {
   "cell_type": "code",
   "execution_count": 23,
   "metadata": {},
   "outputs": [],
   "source": [
    "eps = datasets.groupby(\"semestres\").sum().sum(axis=1)"
   ]
  },
  {
   "cell_type": "code",
   "execution_count": 24,
   "metadata": {},
   "outputs": [
    {
     "data": {
      "text/plain": [
       "semestres\n",
       "16.2    1961.0\n",
       "17.2    1853.0\n",
       "17.1     794.0\n",
       "10.2     588.0\n",
       "10.1     543.0\n",
       "dtype: float64"
      ]
     },
     "execution_count": 24,
     "metadata": {},
     "output_type": "execute_result"
    }
   ],
   "source": [
    "eps.sort_values(ascending=False).head()"
   ]
  },
  {
   "cell_type": "code",
   "execution_count": 25,
   "metadata": {},
   "outputs": [
    {
     "data": {
      "text/plain": [
       "[<matplotlib.lines.Line2D at 0x7f60a40b5ac8>]"
      ]
     },
     "execution_count": 25,
     "metadata": {},
     "output_type": "execute_result"
    },
    {
     "data": {
      "image/png": "[encoded data removed]",
      "text/plain": [
       "<Figure size 432x288 with 1 Axes>"
      ]
     },
     "metadata": {},
     "output_type": "display_data"
    }
   ],
   "source": [
    "xticks(rotation=45)\n",
    "plot(eps.index, eps.values)"
   ]
  },
  {
   "cell_type": "markdown",
   "metadata": {},
   "source": [
    "## o maior numero de evasoes ocorre no primeiro ou mo segundo semestre do ano?"
   ]
  },
  {
   "cell_type": "code",
   "execution_count": 26,
   "metadata": {},
   "outputs": [],
   "source": [
    "ss = [\"06.2\", \"07.2\", \"08.2\", \"09.2\", \"10.2\", \"16.2\", \"17.2\"]\n",
    "ps = [\"06.1\", \"07.1\", \"08.1\", \"09.1\", \"10.1\", \"16.1\", \"17.1\"]"
   ]
  },
  {
   "cell_type": "code",
   "execution_count": 27,
   "metadata": {},
   "outputs": [
    {
     "data": {
      "text/plain": [
       "5366.0"
      ]
     },
     "execution_count": 27,
     "metadata": {},
     "output_type": "execute_result"
    }
   ],
   "source": [
    "eps[ss].sum()"
   ]
  },
  {
   "cell_type": "code",
   "execution_count": 28,
   "metadata": {},
   "outputs": [
    {
     "data": {
      "text/plain": [
       "2195.0"
      ]
     },
     "execution_count": 28,
     "metadata": {},
     "output_type": "execute_result"
    }
   ],
   "source": [
    "eps[ps].sum()"
   ]
  },
  {
   "cell_type": "code",
   "execution_count": 29,
   "metadata": {},
   "outputs": [
    {
     "data": {
      "text/plain": [
       "<BarContainer object of 2 artists>"
      ]
     },
     "execution_count": 29,
     "metadata": {},
     "output_type": "execute_result"
    },
    {
     "data": {
      "image/png": "[encoded data removed]",
      "text/plain": [
       "<Figure size 432x288 with 1 Axes>"
      ]
     },
     "metadata": {},
     "output_type": "display_data"
    }
   ],
   "source": [
    "barh([\"Primeiro Semestre\", \"Segundo Semestre\"], [eps[ps].sum(), eps[ss].sum()])"
   ]
  },
  {
   "cell_type": "code",
   "execution_count": 30,
   "metadata": {},
   "outputs": [
    {
     "data": {
      "text/plain": [
       "70.96944848565005"
      ]
     },
     "execution_count": 30,
     "metadata": {},
     "output_type": "execute_result"
    }
   ],
   "source": [
    "eps[ss].sum()/eps[ps+ss].sum()*100"
   ]
  },
  {
   "cell_type": "code",
   "execution_count": 31,
   "metadata": {},
   "outputs": [
    {
     "data": {
      "text/plain": [
       "29.030551514349956"
      ]
     },
     "execution_count": 31,
     "metadata": {},
     "output_type": "execute_result"
    }
   ],
   "source": [
    "eps[ps].sum()/eps[ps+ss].sum()*100"
   ]
  },
  {
   "cell_type": "markdown",
   "metadata": {},
   "source": [
    "## Curso com maior numero de evasão"
   ]
  },
  {
   "cell_type": "code",
   "execution_count": 32,
   "metadata": {},
   "outputs": [],
   "source": [
    "epc = datasets.groupby(\"curso\").sum().sum(axis=1).sort_values(ascending=False)"
   ]
  },
  {
   "cell_type": "code",
   "execution_count": 33,
   "metadata": {},
   "outputs": [
    {
     "data": {
      "text/plain": [
       "curso\n",
       "Administracao               299.0\n",
       "Matematica                  299.0\n",
       "Engenharia Civil            242.0\n",
       "Engenharia De Computacao    229.0\n",
       "Engenharia De Producao      226.0\n",
       "Ciencia Da Computacao       210.0\n",
       "Engenharia Quimica          179.0\n",
       "Farmacia                    176.0\n",
       "Ciencias Da Natureza        168.0\n",
       "Engenharia Florestal        167.0\n",
       "dtype: float64"
      ]
     },
     "execution_count": 33,
     "metadata": {},
     "output_type": "execute_result"
    }
   ],
   "source": [
    "epc.head(10)"
   ]
  },
  {
   "cell_type": "code",
   "execution_count": 34,
   "metadata": {},
   "outputs": [
    {
     "data": {
      "text/plain": [
       "<BarContainer object of 10 artists>"
      ]
     },
     "execution_count": 34,
     "metadata": {},
     "output_type": "execute_result"
    },
    {
     "data": {
      "image/png": "[encoded data removed]",
      "text/plain": [
       "<Figure size 432x288 with 1 Axes>"
      ]
     },
     "metadata": {},
     "output_type": "display_data"
    }
   ],
   "source": [
    "barh(epc.head(10).index, epc.head(10).values)"
   ]
  },
  {
   "cell_type": "code",
   "execution_count": 35,
   "metadata": {},
   "outputs": [
    {
     "data": {
      "text/plain": [
       "3.758169934640523"
      ]
     },
     "execution_count": 35,
     "metadata": {},
     "output_type": "execute_result"
    }
   ],
   "source": [
    "epc[0]/epc.sum()*100"
   ]
  },
  {
   "cell_type": "markdown",
   "metadata": {},
   "source": [
    "## numero de cursos vs numero de evasoes"
   ]
  },
  {
   "cell_type": "code",
   "execution_count": 36,
   "metadata": {},
   "outputs": [],
   "source": [
    "nevasoes = datasets.groupby(\"semestres\").sum().sum(axis=1)\n",
    "ncursos = datasets.groupby(\"semestres\")[\"curso\"].count()"
   ]
  },
  {
   "cell_type": "code",
   "execution_count": 37,
   "metadata": {},
   "outputs": [
    {
     "data": {
      "text/plain": [
       "[<matplotlib.lines.Line2D at 0x7f60a3fb4400>]"
      ]
     },
     "execution_count": 37,
     "metadata": {},
     "output_type": "execute_result"
    },
    {
     "data": {
      "image/png": "[encoded data removed]",
      "text/plain": [
       "<Figure size 432x288 with 1 Axes>"
      ]
     },
     "metadata": {},
     "output_type": "display_data"
    }
   ],
   "source": [
    "xticks(rotation=45)\n",
    "plot(ncursos.index, ncursos.values, color=\"blue\")#azul=cursos\n",
    "plot(ncursos.index, nevasoes.values, color=\"red\")#vermelho=evasoes"
   ]
  },
  {
   "cell_type": "markdown",
   "metadata": {},
   "source": [
    "## Turno de curso com maior evasão"
   ]
  },
  {
   "cell_type": "code",
   "execution_count": 38,
   "metadata": {},
   "outputs": [],
   "source": [
    "turno = datasets.groupby(\"turno\").count()\n",
    "turno = turno.loc[[\"Integral\", \"Matutino\", \"Noturno\", \"Vespertino\"]].sum(axis=1).sort_values(ascending=False)"
   ]
  },
  {
   "cell_type": "code",
   "execution_count": 39,
   "metadata": {},
   "outputs": [
    {
     "data": {
      "text/plain": [
       "<BarContainer object of 4 artists>"
      ]
     },
     "execution_count": 39,
     "metadata": {},
     "output_type": "execute_result"
    },
    {
     "data": {
      "image/png": "[encoded data removed]",
      "text/plain": [
       "<Figure size 432x288 with 1 Axes>"
      ]
     },
     "metadata": {},
     "output_type": "display_data"
    }
   ],
   "source": [
    "bar(turno.index, turno.values)"
   ]
  },
  {
   "cell_type": "code",
   "execution_count": 40,
   "metadata": {},
   "outputs": [
    {
     "data": {
      "text/plain": [
       "60.0"
      ]
     },
     "execution_count": 40,
     "metadata": {},
     "output_type": "execute_result"
    }
   ],
   "source": [
    "turno[\"Integral\"]/turno.sum()*100"
   ]
  },
  {
   "cell_type": "code",
   "execution_count": 42,
   "metadata": {
    "scrolled": true
   },
   "outputs": [
    {
     "data": {
      "text/plain": [
       "37.333333333333336"
      ]
     },
     "execution_count": 42,
     "metadata": {},
     "output_type": "execute_result"
    }
   ],
   "source": [
    "turno[\"Noturno\"]/turno.sum()*100"
   ]
  },
  {
   "cell_type": "code",
   "execution_count": 44,
   "metadata": {},
   "outputs": [
    {
     "name": "stdout",
     "output_type": "stream",
     "text": [
      "CONGRATULATIONS!!!!\n"
     ]
    }
   ],
   "source": [
    "print(\"CONGRATULATIONS!!!!\")"
   ]
  },
  {
   "cell_type": "code",
   "execution_count": null,
   "metadata": {},
   "outputs": [],
   "source": []
  }
 ],
 "metadata": {
  "kernelspec": {
   "display_name": "Python 3",
   "language": "python",
   "name": "python3"
  },
  "language_info": {
   "codemirror_mode": {
    "name": "ipython",
    "version": 3
   },
   "file_extension": ".py",
   "mimetype": "text/x-python",
   "name": "python",
   "nbconvert_exporter": "python",
   "pygments_lexer": "ipython3",
   "version": "3.5.2"
  }
 },
 "nbformat": 4,
 "nbformat_minor": 2
}
